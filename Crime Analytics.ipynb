{
 "cells": [
  {
   "cell_type": "code",
   "execution_count": 96,
   "metadata": {},
   "outputs": [],
   "source": [
    "import pandas as pd\n",
    "import seaborn as sns\n",
    "import numpy as np\n",
    "import datetime as dt\n",
    "import matplotlib.pyplot as plt"
   ]
  },
  {
   "cell_type": "code",
   "execution_count": 97,
   "metadata": {},
   "outputs": [
    {
     "name": "stderr",
     "output_type": "stream",
     "text": [
      "G:\\anaconda\\lib\\site-packages\\IPython\\core\\interactiveshell.py:2785: DtypeWarning: Columns (9) have mixed types. Specify dtype option on import or set low_memory=False.\n",
      "  interactivity=interactivity, compiler=compiler, result=result)\n"
     ]
    }
   ],
   "source": [
    "seat=pd.read_csv('C:\\\\Users\\JERLIN RAJ\\data\\seattle.csv',parse_dates=True)\n",
    "sanf=pd.read_csv('C:\\\\Users\\JERLIN RAJ\\data\\san.csv',parse_dates=True)"
   ]
  },
  {
   "cell_type": "code",
   "execution_count": 98,
   "metadata": {},
   "outputs": [
    {
     "data": {
      "text/html": [
       "<div>\n",
       "<style scoped>\n",
       "    .dataframe tbody tr th:only-of-type {\n",
       "        vertical-align: middle;\n",
       "    }\n",
       "\n",
       "    .dataframe tbody tr th {\n",
       "        vertical-align: top;\n",
       "    }\n",
       "\n",
       "    .dataframe thead th {\n",
       "        text-align: right;\n",
       "    }\n",
       "</style>\n",
       "<table border=\"1\" class=\"dataframe\">\n",
       "  <thead>\n",
       "    <tr style=\"text-align: right;\">\n",
       "      <th></th>\n",
       "      <th>RMS CDW ID</th>\n",
       "      <th>General Offense Number</th>\n",
       "      <th>Offense Code</th>\n",
       "      <th>Offense Code Extension</th>\n",
       "      <th>Offense Type</th>\n",
       "      <th>Summary Offense Code</th>\n",
       "      <th>Summarized Offense Description</th>\n",
       "      <th>Date Reported</th>\n",
       "      <th>Occurred Date or Date Range Start</th>\n",
       "      <th>Occurred Date Range End</th>\n",
       "      <th>Hundred Block Location</th>\n",
       "      <th>District/Sector</th>\n",
       "      <th>Zone/Beat</th>\n",
       "      <th>Census Tract 2000</th>\n",
       "      <th>Longitude</th>\n",
       "      <th>Latitude</th>\n",
       "      <th>Location</th>\n",
       "      <th>Month</th>\n",
       "      <th>Year</th>\n",
       "    </tr>\n",
       "  </thead>\n",
       "  <tbody>\n",
       "    <tr>\n",
       "      <th>0</th>\n",
       "      <td>483839</td>\n",
       "      <td>2015218538</td>\n",
       "      <td>2202</td>\n",
       "      <td>0</td>\n",
       "      <td>BURGLARY-FORCE-RES</td>\n",
       "      <td>2200</td>\n",
       "      <td>BURGLARY</td>\n",
       "      <td>06/28/2015 10:31:00 AM</td>\n",
       "      <td>06/28/2014 10:31:00 AM</td>\n",
       "      <td>06/28/2015 10:31:00 AM</td>\n",
       "      <td>6XX BLOCK OF NW 74 ST</td>\n",
       "      <td>J</td>\n",
       "      <td>J2</td>\n",
       "      <td>2900.3013</td>\n",
       "      <td>-122.364672</td>\n",
       "      <td>47.682524</td>\n",
       "      <td>(47.68252427, -122.364671996)</td>\n",
       "      <td>6</td>\n",
       "      <td>2014</td>\n",
       "    </tr>\n",
       "    <tr>\n",
       "      <th>1</th>\n",
       "      <td>481252</td>\n",
       "      <td>2015213067</td>\n",
       "      <td>2610</td>\n",
       "      <td>0</td>\n",
       "      <td>FRAUD-IDENTITY THEFT</td>\n",
       "      <td>2600</td>\n",
       "      <td>FRAUD</td>\n",
       "      <td>06/24/2015 11:09:00 AM</td>\n",
       "      <td>06/01/2014 12:00:00 AM</td>\n",
       "      <td>06/24/2015 11:09:00 AM</td>\n",
       "      <td>23XX BLOCK OF 43 AV E</td>\n",
       "      <td>C</td>\n",
       "      <td>C2</td>\n",
       "      <td>6300.1004</td>\n",
       "      <td>-122.277080</td>\n",
       "      <td>47.639901</td>\n",
       "      <td>(47.639900761, -122.277080248)</td>\n",
       "      <td>6</td>\n",
       "      <td>2014</td>\n",
       "    </tr>\n",
       "    <tr>\n",
       "      <th>2</th>\n",
       "      <td>481375</td>\n",
       "      <td>2015210301</td>\n",
       "      <td>2316</td>\n",
       "      <td>0</td>\n",
       "      <td>THEFT-MAIL</td>\n",
       "      <td>2300</td>\n",
       "      <td>MAIL THEFT</td>\n",
       "      <td>06/22/2015 09:22:00 AM</td>\n",
       "      <td>08/31/2014 09:00:00 AM</td>\n",
       "      <td>NaN</td>\n",
       "      <td>81XX BLOCK OF 11 AV SW</td>\n",
       "      <td>F</td>\n",
       "      <td>F3</td>\n",
       "      <td>11300.5013</td>\n",
       "      <td>-122.349312</td>\n",
       "      <td>47.529232</td>\n",
       "      <td>(47.529232299, -122.349312181)</td>\n",
       "      <td>8</td>\n",
       "      <td>2014</td>\n",
       "    </tr>\n",
       "    <tr>\n",
       "      <th>3</th>\n",
       "      <td>481690</td>\n",
       "      <td>2015209327</td>\n",
       "      <td>2599</td>\n",
       "      <td>0</td>\n",
       "      <td>COUNTERFEIT</td>\n",
       "      <td>2500</td>\n",
       "      <td>COUNTERFEIT</td>\n",
       "      <td>06/21/2015 03:52:00 PM</td>\n",
       "      <td>06/20/2014 01:38:00 PM</td>\n",
       "      <td>NaN</td>\n",
       "      <td>6XX BLOCK OF PINE ST</td>\n",
       "      <td>M</td>\n",
       "      <td>M2</td>\n",
       "      <td>8200.1002</td>\n",
       "      <td>-122.334818</td>\n",
       "      <td>47.612368</td>\n",
       "      <td>(47.612368448, -122.334817763)</td>\n",
       "      <td>6</td>\n",
       "      <td>2014</td>\n",
       "    </tr>\n",
       "    <tr>\n",
       "      <th>4</th>\n",
       "      <td>478198</td>\n",
       "      <td>2015207880</td>\n",
       "      <td>2399</td>\n",
       "      <td>3</td>\n",
       "      <td>THEFT-OTH</td>\n",
       "      <td>2300</td>\n",
       "      <td>OTHER PROPERTY</td>\n",
       "      <td>06/20/2015 11:59:00 AM</td>\n",
       "      <td>06/01/2014 11:59:00 AM</td>\n",
       "      <td>11/01/2014 12:00:00 PM</td>\n",
       "      <td>77XX BLOCK OF SUNNYSIDE AV N</td>\n",
       "      <td>J</td>\n",
       "      <td>J3</td>\n",
       "      <td>2700.2015</td>\n",
       "      <td>-122.329379</td>\n",
       "      <td>47.685960</td>\n",
       "      <td>(47.685959879, -122.329378505)</td>\n",
       "      <td>6</td>\n",
       "      <td>2014</td>\n",
       "    </tr>\n",
       "  </tbody>\n",
       "</table>\n",
       "</div>"
      ],
      "text/plain": [
       "   RMS CDW ID  General Offense Number Offense Code  Offense Code Extension  \\\n",
       "0      483839              2015218538         2202                       0   \n",
       "1      481252              2015213067         2610                       0   \n",
       "2      481375              2015210301         2316                       0   \n",
       "3      481690              2015209327         2599                       0   \n",
       "4      478198              2015207880         2399                       3   \n",
       "\n",
       "           Offense Type Summary Offense Code Summarized Offense Description  \\\n",
       "0    BURGLARY-FORCE-RES                 2200                       BURGLARY   \n",
       "1  FRAUD-IDENTITY THEFT                 2600                          FRAUD   \n",
       "2            THEFT-MAIL                 2300                     MAIL THEFT   \n",
       "3           COUNTERFEIT                 2500                    COUNTERFEIT   \n",
       "4             THEFT-OTH                 2300                 OTHER PROPERTY   \n",
       "\n",
       "            Date Reported Occurred Date or Date Range Start  \\\n",
       "0  06/28/2015 10:31:00 AM            06/28/2014 10:31:00 AM   \n",
       "1  06/24/2015 11:09:00 AM            06/01/2014 12:00:00 AM   \n",
       "2  06/22/2015 09:22:00 AM            08/31/2014 09:00:00 AM   \n",
       "3  06/21/2015 03:52:00 PM            06/20/2014 01:38:00 PM   \n",
       "4  06/20/2015 11:59:00 AM            06/01/2014 11:59:00 AM   \n",
       "\n",
       "  Occurred Date Range End        Hundred Block Location District/Sector  \\\n",
       "0  06/28/2015 10:31:00 AM         6XX BLOCK OF NW 74 ST               J   \n",
       "1  06/24/2015 11:09:00 AM         23XX BLOCK OF 43 AV E               C   \n",
       "2                     NaN        81XX BLOCK OF 11 AV SW               F   \n",
       "3                     NaN          6XX BLOCK OF PINE ST               M   \n",
       "4  11/01/2014 12:00:00 PM  77XX BLOCK OF SUNNYSIDE AV N               J   \n",
       "\n",
       "  Zone/Beat  Census Tract 2000   Longitude   Latitude  \\\n",
       "0        J2          2900.3013 -122.364672  47.682524   \n",
       "1        C2          6300.1004 -122.277080  47.639901   \n",
       "2        F3         11300.5013 -122.349312  47.529232   \n",
       "3        M2          8200.1002 -122.334818  47.612368   \n",
       "4        J3          2700.2015 -122.329379  47.685960   \n",
       "\n",
       "                         Location  Month  Year  \n",
       "0   (47.68252427, -122.364671996)      6  2014  \n",
       "1  (47.639900761, -122.277080248)      6  2014  \n",
       "2  (47.529232299, -122.349312181)      8  2014  \n",
       "3  (47.612368448, -122.334817763)      6  2014  \n",
       "4  (47.685959879, -122.329378505)      6  2014  "
      ]
     },
     "execution_count": 98,
     "metadata": {},
     "output_type": "execute_result"
    }
   ],
   "source": [
    "seat.head()"
   ]
  },
  {
   "cell_type": "code",
   "execution_count": 99,
   "metadata": {
    "scrolled": true
   },
   "outputs": [
    {
     "data": {
      "text/html": [
       "<div>\n",
       "<style scoped>\n",
       "    .dataframe tbody tr th:only-of-type {\n",
       "        vertical-align: middle;\n",
       "    }\n",
       "\n",
       "    .dataframe tbody tr th {\n",
       "        vertical-align: top;\n",
       "    }\n",
       "\n",
       "    .dataframe thead th {\n",
       "        text-align: right;\n",
       "    }\n",
       "</style>\n",
       "<table border=\"1\" class=\"dataframe\">\n",
       "  <thead>\n",
       "    <tr style=\"text-align: right;\">\n",
       "      <th></th>\n",
       "      <th>IncidntNum</th>\n",
       "      <th>Category</th>\n",
       "      <th>Descript</th>\n",
       "      <th>DayOfWeek</th>\n",
       "      <th>Date</th>\n",
       "      <th>Time</th>\n",
       "      <th>PdDistrict</th>\n",
       "      <th>Resolution</th>\n",
       "      <th>Address</th>\n",
       "      <th>X</th>\n",
       "      <th>Y</th>\n",
       "      <th>Location</th>\n",
       "      <th>PdId</th>\n",
       "    </tr>\n",
       "  </thead>\n",
       "  <tbody>\n",
       "    <tr>\n",
       "      <th>0</th>\n",
       "      <td>140734311</td>\n",
       "      <td>ARSON</td>\n",
       "      <td>ARSON OF A VEHICLE</td>\n",
       "      <td>Sunday</td>\n",
       "      <td>08/31/2014</td>\n",
       "      <td>23:50</td>\n",
       "      <td>BAYVIEW</td>\n",
       "      <td>NONE</td>\n",
       "      <td>LOOMIS ST / INDUSTRIAL ST</td>\n",
       "      <td>-122.405647</td>\n",
       "      <td>37.738322</td>\n",
       "      <td>(37.7383221869053, -122.405646994567)</td>\n",
       "      <td>14073431126031</td>\n",
       "    </tr>\n",
       "    <tr>\n",
       "      <th>1</th>\n",
       "      <td>140736317</td>\n",
       "      <td>NON-CRIMINAL</td>\n",
       "      <td>LOST PROPERTY</td>\n",
       "      <td>Sunday</td>\n",
       "      <td>08/31/2014</td>\n",
       "      <td>23:45</td>\n",
       "      <td>MISSION</td>\n",
       "      <td>NONE</td>\n",
       "      <td>400 Block of CASTRO ST</td>\n",
       "      <td>-122.435012</td>\n",
       "      <td>37.761768</td>\n",
       "      <td>(37.7617677182954, -122.435012093789)</td>\n",
       "      <td>14073631771000</td>\n",
       "    </tr>\n",
       "    <tr>\n",
       "      <th>2</th>\n",
       "      <td>146177923</td>\n",
       "      <td>LARCENY/THEFT</td>\n",
       "      <td>GRAND THEFT FROM LOCKED AUTO</td>\n",
       "      <td>Sunday</td>\n",
       "      <td>08/31/2014</td>\n",
       "      <td>23:30</td>\n",
       "      <td>SOUTHERN</td>\n",
       "      <td>NONE</td>\n",
       "      <td>1000 Block of MISSION ST</td>\n",
       "      <td>-122.409795</td>\n",
       "      <td>37.780036</td>\n",
       "      <td>(37.7800356268394, -122.409795194505)</td>\n",
       "      <td>14617792306244</td>\n",
       "    </tr>\n",
       "    <tr>\n",
       "      <th>3</th>\n",
       "      <td>146177531</td>\n",
       "      <td>LARCENY/THEFT</td>\n",
       "      <td>GRAND THEFT FROM LOCKED AUTO</td>\n",
       "      <td>Sunday</td>\n",
       "      <td>08/31/2014</td>\n",
       "      <td>23:30</td>\n",
       "      <td>RICHMOND</td>\n",
       "      <td>NONE</td>\n",
       "      <td>FULTON ST / 26TH AV</td>\n",
       "      <td>-122.485263</td>\n",
       "      <td>37.772518</td>\n",
       "      <td>(37.7725176473142, -122.485262988324)</td>\n",
       "      <td>14617753106244</td>\n",
       "    </tr>\n",
       "    <tr>\n",
       "      <th>4</th>\n",
       "      <td>140734220</td>\n",
       "      <td>NON-CRIMINAL</td>\n",
       "      <td>FOUND PROPERTY</td>\n",
       "      <td>Sunday</td>\n",
       "      <td>08/31/2014</td>\n",
       "      <td>23:23</td>\n",
       "      <td>RICHMOND</td>\n",
       "      <td>NONE</td>\n",
       "      <td>800 Block of LA PLAYA ST</td>\n",
       "      <td>-122.509895</td>\n",
       "      <td>37.772313</td>\n",
       "      <td>(37.7723131976814, -122.509895418239)</td>\n",
       "      <td>14073422072000</td>\n",
       "    </tr>\n",
       "  </tbody>\n",
       "</table>\n",
       "</div>"
      ],
      "text/plain": [
       "   IncidntNum       Category                      Descript DayOfWeek  \\\n",
       "0   140734311          ARSON            ARSON OF A VEHICLE    Sunday   \n",
       "1   140736317   NON-CRIMINAL                 LOST PROPERTY    Sunday   \n",
       "2   146177923  LARCENY/THEFT  GRAND THEFT FROM LOCKED AUTO    Sunday   \n",
       "3   146177531  LARCENY/THEFT  GRAND THEFT FROM LOCKED AUTO    Sunday   \n",
       "4   140734220   NON-CRIMINAL                FOUND PROPERTY    Sunday   \n",
       "\n",
       "         Date   Time PdDistrict Resolution                    Address  \\\n",
       "0  08/31/2014  23:50    BAYVIEW       NONE  LOOMIS ST / INDUSTRIAL ST   \n",
       "1  08/31/2014  23:45    MISSION       NONE     400 Block of CASTRO ST   \n",
       "2  08/31/2014  23:30   SOUTHERN       NONE   1000 Block of MISSION ST   \n",
       "3  08/31/2014  23:30   RICHMOND       NONE        FULTON ST / 26TH AV   \n",
       "4  08/31/2014  23:23   RICHMOND       NONE   800 Block of LA PLAYA ST   \n",
       "\n",
       "            X          Y                               Location  \\\n",
       "0 -122.405647  37.738322  (37.7383221869053, -122.405646994567)   \n",
       "1 -122.435012  37.761768  (37.7617677182954, -122.435012093789)   \n",
       "2 -122.409795  37.780036  (37.7800356268394, -122.409795194505)   \n",
       "3 -122.485263  37.772518  (37.7725176473142, -122.485262988324)   \n",
       "4 -122.509895  37.772313  (37.7723131976814, -122.509895418239)   \n",
       "\n",
       "             PdId  \n",
       "0  14073431126031  \n",
       "1  14073631771000  \n",
       "2  14617792306244  \n",
       "3  14617753106244  \n",
       "4  14073422072000  "
      ]
     },
     "execution_count": 99,
     "metadata": {},
     "output_type": "execute_result"
    }
   ],
   "source": [
    "sanf.head()"
   ]
  },
  {
   "cell_type": "code",
   "execution_count": 100,
   "metadata": {},
   "outputs": [
    {
     "data": {
      "text/html": [
       "<div>\n",
       "<style scoped>\n",
       "    .dataframe tbody tr th:only-of-type {\n",
       "        vertical-align: middle;\n",
       "    }\n",
       "\n",
       "    .dataframe tbody tr th {\n",
       "        vertical-align: top;\n",
       "    }\n",
       "\n",
       "    .dataframe thead th {\n",
       "        text-align: right;\n",
       "    }\n",
       "</style>\n",
       "<table border=\"1\" class=\"dataframe\">\n",
       "  <thead>\n",
       "    <tr style=\"text-align: right;\">\n",
       "      <th></th>\n",
       "      <th>RMS CDW ID</th>\n",
       "      <th>General Offense Number</th>\n",
       "      <th>Offense Code Extension</th>\n",
       "      <th>Census Tract 2000</th>\n",
       "      <th>Longitude</th>\n",
       "      <th>Latitude</th>\n",
       "      <th>Month</th>\n",
       "      <th>Year</th>\n",
       "    </tr>\n",
       "  </thead>\n",
       "  <tbody>\n",
       "    <tr>\n",
       "      <th>count</th>\n",
       "      <td>3.277900e+04</td>\n",
       "      <td>3.277900e+04</td>\n",
       "      <td>32779.000000</td>\n",
       "      <td>32645.000000</td>\n",
       "      <td>32779.000000</td>\n",
       "      <td>32779.000000</td>\n",
       "      <td>32779.000000</td>\n",
       "      <td>32779.0</td>\n",
       "    </tr>\n",
       "    <tr>\n",
       "      <th>mean</th>\n",
       "      <td>5.786503e+05</td>\n",
       "      <td>2.019999e+09</td>\n",
       "      <td>4.199793</td>\n",
       "      <td>6737.664956</td>\n",
       "      <td>-114.680394</td>\n",
       "      <td>44.646274</td>\n",
       "      <td>6.980933</td>\n",
       "      <td>2014.0</td>\n",
       "    </tr>\n",
       "    <tr>\n",
       "      <th>std</th>\n",
       "      <td>4.876735e+05</td>\n",
       "      <td>1.111669e+09</td>\n",
       "      <td>12.028941</td>\n",
       "      <td>3300.797625</td>\n",
       "      <td>29.620933</td>\n",
       "      <td>11.531858</td>\n",
       "      <td>0.812021</td>\n",
       "      <td>0.0</td>\n",
       "    </tr>\n",
       "    <tr>\n",
       "      <th>min</th>\n",
       "      <td>1.247000e+04</td>\n",
       "      <td>2.015135e+07</td>\n",
       "      <td>0.000000</td>\n",
       "      <td>100.100100</td>\n",
       "      <td>-122.425315</td>\n",
       "      <td>0.000000</td>\n",
       "      <td>6.000000</td>\n",
       "      <td>2014.0</td>\n",
       "    </tr>\n",
       "    <tr>\n",
       "      <th>25%</th>\n",
       "      <td>4.724550e+04</td>\n",
       "      <td>2.014207e+09</td>\n",
       "      <td>0.000000</td>\n",
       "      <td>4600.100000</td>\n",
       "      <td>-122.346076</td>\n",
       "      <td>47.580045</td>\n",
       "      <td>6.000000</td>\n",
       "      <td>2014.0</td>\n",
       "    </tr>\n",
       "    <tr>\n",
       "      <th>50%</th>\n",
       "      <td>9.998590e+05</td>\n",
       "      <td>2.014243e+09</td>\n",
       "      <td>0.000000</td>\n",
       "      <td>7500.400700</td>\n",
       "      <td>-122.328713</td>\n",
       "      <td>47.614196</td>\n",
       "      <td>7.000000</td>\n",
       "      <td>2014.0</td>\n",
       "    </tr>\n",
       "    <tr>\n",
       "      <th>75%</th>\n",
       "      <td>1.030116e+06</td>\n",
       "      <td>2.014277e+09</td>\n",
       "      <td>1.000000</td>\n",
       "      <td>9200.201300</td>\n",
       "      <td>-122.307333</td>\n",
       "      <td>47.664051</td>\n",
       "      <td>8.000000</td>\n",
       "      <td>2014.0</td>\n",
       "    </tr>\n",
       "    <tr>\n",
       "      <th>max</th>\n",
       "      <td>1.125252e+06</td>\n",
       "      <td>2.014142e+11</td>\n",
       "      <td>98.000000</td>\n",
       "      <td>26500.100200</td>\n",
       "      <td>0.000000</td>\n",
       "      <td>47.749606</td>\n",
       "      <td>8.000000</td>\n",
       "      <td>2014.0</td>\n",
       "    </tr>\n",
       "  </tbody>\n",
       "</table>\n",
       "</div>"
      ],
      "text/plain": [
       "         RMS CDW ID  General Offense Number  Offense Code Extension  \\\n",
       "count  3.277900e+04            3.277900e+04            32779.000000   \n",
       "mean   5.786503e+05            2.019999e+09                4.199793   \n",
       "std    4.876735e+05            1.111669e+09               12.028941   \n",
       "min    1.247000e+04            2.015135e+07                0.000000   \n",
       "25%    4.724550e+04            2.014207e+09                0.000000   \n",
       "50%    9.998590e+05            2.014243e+09                0.000000   \n",
       "75%    1.030116e+06            2.014277e+09                1.000000   \n",
       "max    1.125252e+06            2.014142e+11               98.000000   \n",
       "\n",
       "       Census Tract 2000     Longitude      Latitude         Month     Year  \n",
       "count       32645.000000  32779.000000  32779.000000  32779.000000  32779.0  \n",
       "mean         6737.664956   -114.680394     44.646274      6.980933   2014.0  \n",
       "std          3300.797625     29.620933     11.531858      0.812021      0.0  \n",
       "min           100.100100   -122.425315      0.000000      6.000000   2014.0  \n",
       "25%          4600.100000   -122.346076     47.580045      6.000000   2014.0  \n",
       "50%          7500.400700   -122.328713     47.614196      7.000000   2014.0  \n",
       "75%          9200.201300   -122.307333     47.664051      8.000000   2014.0  \n",
       "max         26500.100200      0.000000     47.749606      8.000000   2014.0  "
      ]
     },
     "execution_count": 100,
     "metadata": {},
     "output_type": "execute_result"
    }
   ],
   "source": [
    "seat.describe()"
   ]
  },
  {
   "cell_type": "code",
   "execution_count": 101,
   "metadata": {},
   "outputs": [
    {
     "name": "stdout",
     "output_type": "stream",
     "text": [
      "Index(['RMS CDW ID', 'General Offense Number', 'Offense Code',\n",
      "       'Offense Code Extension', 'Offense Type', 'Summary Offense Code',\n",
      "       'Summarized Offense Description', 'Date Reported',\n",
      "       'Occurred Date or Date Range Start', 'Occurred Date Range End',\n",
      "       'Hundred Block Location', 'District/Sector', 'Zone/Beat',\n",
      "       'Census Tract 2000', 'Longitude', 'Latitude', 'Location', 'Month',\n",
      "       'Year'],\n",
      "      dtype='object')\n"
     ]
    }
   ],
   "source": [
    "print(seat.columns)"
   ]
  },
  {
   "cell_type": "code",
   "execution_count": 102,
   "metadata": {},
   "outputs": [],
   "source": [
    "# consists of inconsistent column names\n",
    "seat=seat.rename(columns={'RMS CDW ID':'RMS_CDW_ID','General Offense Number':'General_Offense_Number',\n",
    "                          'Offense Code':'Offense_Code','Offense Code Extension':'Offense_Code_Extension',\n",
    "                          'Offense Type':'Offense_Type','Summary Offense code':'Summary_Offense_code',\n",
    "                          'Summarized Offense Description':'Summarized_Offense_Description','Date Reported':'Date_Reported',\n",
    "                         'Occurred Date or Date Range Start':'Occurred_Date_or_Date_Range_Start',\n",
    "                         'Occurred Date Range End':'Occurred_Date_Range_End','Hundred Block Location':'Hundred_Block_Location',\n",
    "                         'District/Sector':'District_or_Sector','Zone/Beat':'Zone_or_Beat',\n",
    "                          'Census Tract 2000':'Census_Tract_2000'})"
   ]
  },
  {
   "cell_type": "code",
   "execution_count": 103,
   "metadata": {},
   "outputs": [
    {
     "name": "stdout",
     "output_type": "stream",
     "text": [
      "Index(['RMS_CDW_ID', 'General_Offense_Number', 'Offense_Code',\n",
      "       'Offense_Code_Extension', 'Offense_Type', 'Summary Offense Code',\n",
      "       'Summarized_Offense_Description', 'Date_Reported',\n",
      "       'Occurred_Date_or_Date_Range_Start', 'Occurred_Date_Range_End',\n",
      "       'Hundred_Block_Location', 'District_or_Sector', 'Zone_or_Beat',\n",
      "       'Census_Tract_2000', 'Longitude', 'Latitude', 'Location', 'Month',\n",
      "       'Year'],\n",
      "      dtype='object')\n"
     ]
    }
   ],
   "source": [
    "print(seat.columns)"
   ]
  },
  {
   "cell_type": "markdown",
   "metadata": {},
   "source": [
    "# For either city, how do incidents vary by time of day? Which incidents are most common in the evening? During what periods of the day are robberies most common?"
   ]
  },
  {
   "cell_type": "code",
   "execution_count": 104,
   "metadata": {},
   "outputs": [
    {
     "data": {
      "text/plain": [
       "RMS_CDW_ID                             int64\n",
       "General_Offense_Number                 int64\n",
       "Offense_Code                          object\n",
       "Offense_Code_Extension                 int64\n",
       "Offense_Type                          object\n",
       "Summary Offense Code                  object\n",
       "Summarized_Offense_Description        object\n",
       "Date_Reported                         object\n",
       "Occurred_Date_or_Date_Range_Start     object\n",
       "Occurred_Date_Range_End               object\n",
       "Hundred_Block_Location                object\n",
       "District_or_Sector                    object\n",
       "Zone_or_Beat                          object\n",
       "Census_Tract_2000                    float64\n",
       "Longitude                            float64\n",
       "Latitude                             float64\n",
       "Location                              object\n",
       "Month                                  int64\n",
       "Year                                   int64\n",
       "dtype: object"
      ]
     },
     "execution_count": 104,
     "metadata": {},
     "output_type": "execute_result"
    }
   ],
   "source": [
    "seat.dtypes"
   ]
  },
  {
   "cell_type": "code",
   "execution_count": 105,
   "metadata": {},
   "outputs": [],
   "source": [
    "%matplotlib inline"
   ]
  },
  {
   "cell_type": "code",
   "execution_count": 106,
   "metadata": {},
   "outputs": [],
   "source": [
    "seat['Time']=pd.to_datetime(seat['Occurred_Date_or_Date_Range_Start'])"
   ]
  },
  {
   "cell_type": "code",
   "execution_count": 107,
   "metadata": {},
   "outputs": [
    {
     "data": {
      "text/plain": [
       "RMS_CDW_ID                                    int64\n",
       "General_Offense_Number                        int64\n",
       "Offense_Code                                 object\n",
       "Offense_Code_Extension                        int64\n",
       "Offense_Type                                 object\n",
       "Summary Offense Code                         object\n",
       "Summarized_Offense_Description               object\n",
       "Date_Reported                                object\n",
       "Occurred_Date_or_Date_Range_Start            object\n",
       "Occurred_Date_Range_End                      object\n",
       "Hundred_Block_Location                       object\n",
       "District_or_Sector                           object\n",
       "Zone_or_Beat                                 object\n",
       "Census_Tract_2000                           float64\n",
       "Longitude                                   float64\n",
       "Latitude                                    float64\n",
       "Location                                     object\n",
       "Month                                         int64\n",
       "Year                                          int64\n",
       "Time                                 datetime64[ns]\n",
       "dtype: object"
      ]
     },
     "execution_count": 107,
     "metadata": {},
     "output_type": "execute_result"
    }
   ],
   "source": [
    "seat.head().dtypes"
   ]
  },
  {
   "cell_type": "markdown",
   "metadata": {},
   "source": [
    "# For either city, how do incidents vary month to month in the Summer 2014 dataset?"
   ]
  },
  {
   "cell_type": "code",
   "execution_count": 131,
   "metadata": {},
   "outputs": [],
   "source": [
    "seat['hour']=seat.Time.dt.hour\n",
    "import matplotlib.pyplot as plt\n",
    "plt.rcParams['figure.figsize'] = [20, 10]\n"
   ]
  },
  {
   "cell_type": "code",
   "execution_count": 132,
   "metadata": {},
   "outputs": [
    {
     "data": {
      "text/plain": [
       "Text(0.5,1,'For either city,incidents varying by time in the Summer 2014 dataset of seatle')"
      ]
     },
     "execution_count": 132,
     "metadata": {},
     "output_type": "execute_result"
    },
    {
     "data": {
      "image/png": "[encoded data removed]",
      "text/plain": [
       "<Figure size 1440x720 with 1 Axes>"
      ]
     },
     "metadata": {},
     "output_type": "display_data"
    }
   ],
   "source": [
    "seat.hour.plot('hist',log=False,bins=24,rwidth=0.5,color='mediumvioletred')\n",
    "plt.xlabel('Hours')\n",
    "plt.ylabel('Frequency Count')\n",
    "plt.title('For either city,incidents varying by time in the Summer 2014 dataset of seatle')"
   ]
  },
  {
   "cell_type": "raw",
   "metadata": {},
   "source": [
    "Note:\n",
    "    1.The highest amount of crime took placed where--> 00:00:00 AM and 12:00:00 PM\n",
    "    2.And have a steady growth of crime from 15:00:00 PM to midnight."
   ]
  },
  {
   "cell_type": "markdown",
   "metadata": {},
   "source": [
    "# Robberies Per Week Day"
   ]
  },
  {
   "cell_type": "code",
   "execution_count": 110,
   "metadata": {},
   "outputs": [
    {
     "data": {
      "text/plain": [
       "0   2014-06-28 10:31:00\n",
       "1   2014-06-01 00:00:00\n",
       "2   2014-08-31 09:00:00\n",
       "Name: Time, dtype: datetime64[ns]"
      ]
     },
     "execution_count": 110,
     "metadata": {},
     "output_type": "execute_result"
    }
   ],
   "source": [
    "seat.Time.head(3)"
   ]
  },
  {
   "cell_type": "code",
   "execution_count": 121,
   "metadata": {},
   "outputs": [],
   "source": [
    "seat['Week_day']=seat.Time.dt.weekday"
   ]
  },
  {
   "cell_type": "code",
   "execution_count": 134,
   "metadata": {},
   "outputs": [
    {
     "data": {
      "text/plain": [
       "Text(0.5,1,'For either city,incidents varying by week days in the Summer 2014 dataset of seatle')"
      ]
     },
     "execution_count": 134,
     "metadata": {},
     "output_type": "execute_result"
    },
    {
     "data": {
      "image/png": "[encoded data removed]",
      "text/plain": [
       "<Figure size 1440x720 with 1 Axes>"
      ]
     },
     "metadata": {},
     "output_type": "display_data"
    }
   ],
   "source": [
    "seat['Week_day'].plot('hist',log=False,bins=7,rwidth=0.4,color='green')\n",
    "plt.xlabel('Week days')\n",
    "plt.ylabel('Frequency Count')\n",
    "plt.title('For either city,incidents varying by week days in the Summer 2014 dataset of seatle')"
   ]
  },
  {
   "cell_type": "code",
   "execution_count": null,
   "metadata": {},
   "outputs": [],
   "source": []
  }
 ],
 "metadata": {
  "kernelspec": {
   "display_name": "Python 3",
   "language": "python",
   "name": "python3"
  },
  "language_info": {
   "codemirror_mode": {
    "name": "ipython",
    "version": 3
   },
   "file_extension": ".py",
   "mimetype": "text/x-python",
   "name": "python",
   "nbconvert_exporter": "python",
   "pygments_lexer": "ipython3",
   "version": "3.6.5"
  }
 },
 "nbformat": 4,
 "nbformat_minor": 2
}
